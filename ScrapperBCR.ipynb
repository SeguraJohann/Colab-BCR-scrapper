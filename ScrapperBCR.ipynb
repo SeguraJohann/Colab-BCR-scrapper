{
  "nbformat": 4,
  "nbformat_minor": 0,
  "metadata": {
    "colab": {
      "provenance": [],
      "authorship_tag": "ABX9TyPHCgllbiTCMO0jfCQFQk46",
      "include_colab_link": true
    },
    "kernelspec": {
      "name": "python3",
      "display_name": "Python 3"
    },
    "language_info": {
      "name": "python"
    }
  },
  "cells": [
    {
      "cell_type": "markdown",
      "metadata": {
        "id": "view-in-github",
        "colab_type": "text"
      },
      "source": [
        "<a href=\"https://colab.research.google.com/github/SeguraJohann/Colab-BCR-scrapper/blob/main/ScrapperBCR.ipynb\" target=\"_parent\"><img src=\"https://colab.research.google.com/assets/colab-badge.svg\" alt=\"Open In Colab\"/></a>"
      ]
    },
    {
      "cell_type": "markdown",
      "source": [
        "# **Imports + Funciones**"
      ],
      "metadata": {
        "id": "Pr5VOEx2htIS"
      }
    },
    {
      "cell_type": "code",
      "source": [
        "# @title Import libraries\n",
        "import requests\n",
        "from bs4 import BeautifulSoup\n",
        "import pandas as pd\n",
        "\n",
        "headersTemplate = {\n",
        "    'accept': 'text/html, */*; q=0.01',\n",
        "    'accept-language': 'es-ES,es;q=0.9,en;q=0.8',\n",
        "    'content-type': 'application/x-www-form-urlencoded; charset=UTF-8',\n",
        "    'origin': 'https://ventadebienes.bancobcr.com',\n",
        "    'priority': 'u=1, i',\n",
        "    'referer': 'https://ventadebienes.bancobcr.com/wps/portal/bcrb/bcrbienes/bienes/Casas?&tipo_propiedad=1',\n",
        "    'sec-ch-ua': '\"Not/A)Brand\";v=\"8\", \"Chromium\";v=\"126\", \"Google Chrome\";v=\"126\"',\n",
        "    'sec-ch-ua-mobile': '?0',\n",
        "    'sec-ch-ua-platform': '\"Windows\"',\n",
        "    'sec-fetch-dest': 'empty',\n",
        "    'sec-fetch-mode': 'cors',\n",
        "    'sec-fetch-site': 'same-origin',\n",
        "    'user-agent': 'Mozilla/5.0 (Windows NT 10.0; Win64; x64) AppleWebKit/537.36 (KHTML, like Gecko) Chrome/126.0.0.0 Safari/537.36',\n",
        "    'uzlc': 'true',\n",
        "    'x-requested-with': 'XMLHttpRequest'\n",
        "}\n"
      ],
      "metadata": {
        "id": "Hbj4R9GxSOb1",
        "cellView": "form"
      },
      "execution_count": null,
      "outputs": []
    },
    {
      "cell_type": "code",
      "source": [
        "#@title Instalación de Selenium\n",
        "!apt-get update\n",
        "!apt-get install -y chromium-chromedriver\n",
        "!pip install selenium\n",
        "\n",
        "\n"
      ],
      "metadata": {
        "colab": {
          "base_uri": "https://localhost:8080/"
        },
        "id": "skFSQgtjmRKV",
        "outputId": "ef8fa737-9d8a-4167-d867-ac6095309b7a"
      },
      "execution_count": null,
      "outputs": [
        {
          "output_type": "stream",
          "name": "stdout",
          "text": [
            "Hit:1 http://archive.ubuntu.com/ubuntu jammy InRelease\n",
            "Get:2 http://archive.ubuntu.com/ubuntu jammy-updates InRelease [128 kB]\n",
            "Get:3 https://cloud.r-project.org/bin/linux/ubuntu jammy-cran40/ InRelease [3,626 B]\n",
            "Hit:4 https://developer.download.nvidia.com/compute/cuda/repos/ubuntu2204/x86_64  InRelease\n",
            "Ign:5 https://r2u.stat.illinois.edu/ubuntu jammy InRelease\n",
            "Get:6 https://r2u.stat.illinois.edu/ubuntu jammy Release [5,713 B]\n",
            "Get:7 https://r2u.stat.illinois.edu/ubuntu jammy Release.gpg [793 B]\n",
            "Get:8 http://security.ubuntu.com/ubuntu jammy-security InRelease [129 kB]\n",
            "Hit:9 http://archive.ubuntu.com/ubuntu jammy-backports InRelease\n",
            "Hit:10 https://ppa.launchpadcontent.net/deadsnakes/ppa/ubuntu jammy InRelease\n",
            "Hit:11 https://ppa.launchpadcontent.net/graphics-drivers/ppa/ubuntu jammy InRelease\n",
            "Hit:12 https://ppa.launchpadcontent.net/ubuntugis/ppa/ubuntu jammy InRelease\n",
            "Get:13 https://r2u.stat.illinois.edu/ubuntu jammy/main amd64 Packages [2,553 kB]\n",
            "Get:14 http://archive.ubuntu.com/ubuntu jammy-updates/main amd64 Packages [2,449 kB]\n",
            "Get:15 http://archive.ubuntu.com/ubuntu jammy-updates/universe amd64 Packages [1,423 kB]\n",
            "Get:16 http://security.ubuntu.com/ubuntu jammy-security/universe amd64 Packages [1,134 kB]\n",
            "Get:17 http://security.ubuntu.com/ubuntu jammy-security/main amd64 Packages [2,173 kB]\n",
            "Fetched 9,999 kB in 6s (1,738 kB/s)\n",
            "Reading package lists... Done\n",
            "W: Skipping acquire of configured file 'main/source/Sources' as repository 'https://r2u.stat.illinois.edu/ubuntu jammy InRelease' does not seem to provide it (sources.list entry misspelt?)\n",
            "Reading package lists... Done\n",
            "Building dependency tree... Done\n",
            "Reading state information... Done\n",
            "The following additional packages will be installed:\n",
            "  apparmor chromium-browser libfuse3-3 liblzo2-2 libudev1 snapd squashfs-tools systemd-hwe-hwdb\n",
            "  udev\n",
            "Suggested packages:\n",
            "  apparmor-profiles-extra apparmor-utils fuse3 zenity | kdialog\n",
            "The following NEW packages will be installed:\n",
            "  apparmor chromium-browser chromium-chromedriver libfuse3-3 liblzo2-2 snapd squashfs-tools\n",
            "  systemd-hwe-hwdb udev\n",
            "The following packages will be upgraded:\n",
            "  libudev1\n",
            "1 upgraded, 9 newly installed, 0 to remove and 46 not upgraded.\n",
            "Need to get 28.5 MB of archives.\n",
            "After this operation, 118 MB of additional disk space will be used.\n",
            "Get:1 http://archive.ubuntu.com/ubuntu jammy-updates/main amd64 apparmor amd64 3.0.4-2ubuntu2.3 [595 kB]\n",
            "Get:2 http://archive.ubuntu.com/ubuntu jammy/main amd64 liblzo2-2 amd64 2.10-2build3 [53.7 kB]\n",
            "Get:3 http://archive.ubuntu.com/ubuntu jammy/main amd64 squashfs-tools amd64 1:4.5-3build1 [159 kB]\n",
            "Get:4 http://archive.ubuntu.com/ubuntu jammy-updates/main amd64 libudev1 amd64 249.11-0ubuntu3.12 [78.2 kB]\n",
            "Get:5 http://archive.ubuntu.com/ubuntu jammy-updates/main amd64 udev amd64 249.11-0ubuntu3.12 [1,557 kB]\n",
            "Get:6 http://archive.ubuntu.com/ubuntu jammy/main amd64 libfuse3-3 amd64 3.10.5-1build1 [81.2 kB]\n",
            "Get:7 http://archive.ubuntu.com/ubuntu jammy-updates/main amd64 snapd amd64 2.63+22.04ubuntu0.1 [25.9 MB]\n",
            "Get:8 http://archive.ubuntu.com/ubuntu jammy-updates/universe amd64 chromium-browser amd64 1:85.0.4183.83-0ubuntu2.22.04.1 [49.2 kB]\n",
            "Get:9 http://archive.ubuntu.com/ubuntu jammy-updates/universe amd64 chromium-chromedriver amd64 1:85.0.4183.83-0ubuntu2.22.04.1 [2,308 B]\n",
            "Get:10 http://archive.ubuntu.com/ubuntu jammy-updates/main amd64 systemd-hwe-hwdb all 249.11.5 [3,228 B]\n",
            "Fetched 28.5 MB in 1s (36.2 MB/s)\n",
            "Preconfiguring packages ...\n",
            "Selecting previously unselected package apparmor.\n",
            "(Reading database ... 123594 files and directories currently installed.)\n",
            "Preparing to unpack .../apparmor_3.0.4-2ubuntu2.3_amd64.deb ...\n",
            "Unpacking apparmor (3.0.4-2ubuntu2.3) ...\n",
            "Selecting previously unselected package liblzo2-2:amd64.\n",
            "Preparing to unpack .../liblzo2-2_2.10-2build3_amd64.deb ...\n",
            "Unpacking liblzo2-2:amd64 (2.10-2build3) ...\n",
            "Selecting previously unselected package squashfs-tools.\n",
            "Preparing to unpack .../squashfs-tools_1%3a4.5-3build1_amd64.deb ...\n",
            "Unpacking squashfs-tools (1:4.5-3build1) ...\n",
            "Preparing to unpack .../libudev1_249.11-0ubuntu3.12_amd64.deb ...\n",
            "Unpacking libudev1:amd64 (249.11-0ubuntu3.12) over (249.11-0ubuntu3.10) ...\n",
            "Setting up libudev1:amd64 (249.11-0ubuntu3.12) ...\n",
            "Selecting previously unselected package udev.\n",
            "(Reading database ... 123802 files and directories currently installed.)\n",
            "Preparing to unpack .../udev_249.11-0ubuntu3.12_amd64.deb ...\n",
            "Unpacking udev (249.11-0ubuntu3.12) ...\n",
            "Selecting previously unselected package libfuse3-3:amd64.\n",
            "Preparing to unpack .../libfuse3-3_3.10.5-1build1_amd64.deb ...\n",
            "Unpacking libfuse3-3:amd64 (3.10.5-1build1) ...\n",
            "Selecting previously unselected package snapd.\n",
            "Preparing to unpack .../snapd_2.63+22.04ubuntu0.1_amd64.deb ...\n",
            "Unpacking snapd (2.63+22.04ubuntu0.1) ...\n",
            "Setting up apparmor (3.0.4-2ubuntu2.3) ...\n",
            "Created symlink /etc/systemd/system/sysinit.target.wants/apparmor.service → /lib/systemd/system/apparmor.service.\n",
            "Setting up liblzo2-2:amd64 (2.10-2build3) ...\n",
            "Setting up squashfs-tools (1:4.5-3build1) ...\n",
            "Setting up udev (249.11-0ubuntu3.12) ...\n",
            "invoke-rc.d: could not determine current runlevel\n",
            "invoke-rc.d: policy-rc.d denied execution of start.\n",
            "Setting up libfuse3-3:amd64 (3.10.5-1build1) ...\n",
            "Setting up snapd (2.63+22.04ubuntu0.1) ...\n",
            "Created symlink /etc/systemd/system/multi-user.target.wants/snapd.apparmor.service → /lib/systemd/system/snapd.apparmor.service.\n",
            "Created symlink /etc/systemd/system/multi-user.target.wants/snapd.autoimport.service → /lib/systemd/system/snapd.autoimport.service.\n",
            "Created symlink /etc/systemd/system/multi-user.target.wants/snapd.core-fixup.service → /lib/systemd/system/snapd.core-fixup.service.\n",
            "Created symlink /etc/systemd/system/multi-user.target.wants/snapd.recovery-chooser-trigger.service → /lib/systemd/system/snapd.recovery-chooser-trigger.service.\n",
            "Created symlink /etc/systemd/system/multi-user.target.wants/snapd.seeded.service → /lib/systemd/system/snapd.seeded.service.\n",
            "Created symlink /etc/systemd/system/cloud-final.service.wants/snapd.seeded.service → /lib/systemd/system/snapd.seeded.service.\n",
            "Unit /lib/systemd/system/snapd.seeded.service is added as a dependency to a non-existent unit cloud-final.service.\n",
            "Created symlink /etc/systemd/system/multi-user.target.wants/snapd.service → /lib/systemd/system/snapd.service.\n",
            "Created symlink /etc/systemd/system/timers.target.wants/snapd.snap-repair.timer → /lib/systemd/system/snapd.snap-repair.timer.\n",
            "Created symlink /etc/systemd/system/sockets.target.wants/snapd.socket → /lib/systemd/system/snapd.socket.\n",
            "Created symlink /etc/systemd/system/final.target.wants/snapd.system-shutdown.service → /lib/systemd/system/snapd.system-shutdown.service.\n",
            "Selecting previously unselected package chromium-browser.\n",
            "(Reading database ... 124032 files and directories currently installed.)\n",
            "Preparing to unpack .../chromium-browser_1%3a85.0.4183.83-0ubuntu2.22.04.1_amd64.deb ...\n",
            "=> Installing the chromium snap\n",
            "==> Checking connectivity with the snap store\n",
            "===> System doesn't have a working snapd, skipping\n",
            "Unpacking chromium-browser (1:85.0.4183.83-0ubuntu2.22.04.1) ...\n",
            "Selecting previously unselected package chromium-chromedriver.\n",
            "Preparing to unpack .../chromium-chromedriver_1%3a85.0.4183.83-0ubuntu2.22.04.1_amd64.deb ...\n",
            "Unpacking chromium-chromedriver (1:85.0.4183.83-0ubuntu2.22.04.1) ...\n",
            "Selecting previously unselected package systemd-hwe-hwdb.\n",
            "Preparing to unpack .../systemd-hwe-hwdb_249.11.5_all.deb ...\n",
            "Unpacking systemd-hwe-hwdb (249.11.5) ...\n",
            "Setting up systemd-hwe-hwdb (249.11.5) ...\n",
            "Setting up chromium-browser (1:85.0.4183.83-0ubuntu2.22.04.1) ...\n",
            "update-alternatives: using /usr/bin/chromium-browser to provide /usr/bin/x-www-browser (x-www-browser) in auto mode\n",
            "update-alternatives: using /usr/bin/chromium-browser to provide /usr/bin/gnome-www-browser (gnome-www-browser) in auto mode\n",
            "Setting up chromium-chromedriver (1:85.0.4183.83-0ubuntu2.22.04.1) ...\n",
            "Processing triggers for udev (249.11-0ubuntu3.12) ...\n",
            "Processing triggers for hicolor-icon-theme (0.17-2) ...\n",
            "Processing triggers for libc-bin (2.35-0ubuntu3.4) ...\n",
            "/sbin/ldconfig.real: /usr/local/lib/libtbbbind_2_0.so.3 is not a symbolic link\n",
            "\n",
            "/sbin/ldconfig.real: /usr/local/lib/libtbbbind.so.3 is not a symbolic link\n",
            "\n",
            "/sbin/ldconfig.real: /usr/local/lib/libur_loader.so.0 is not a symbolic link\n",
            "\n",
            "/sbin/ldconfig.real: /usr/local/lib/libtbbmalloc.so.2 is not a symbolic link\n",
            "\n",
            "/sbin/ldconfig.real: /usr/local/lib/libur_adapter_opencl.so.0 is not a symbolic link\n",
            "\n",
            "/sbin/ldconfig.real: /usr/local/lib/libtbbmalloc_proxy.so.2 is not a symbolic link\n",
            "\n",
            "/sbin/ldconfig.real: /usr/local/lib/libtbb.so.12 is not a symbolic link\n",
            "\n",
            "/sbin/ldconfig.real: /usr/local/lib/libur_adapter_level_zero.so.0 is not a symbolic link\n",
            "\n",
            "/sbin/ldconfig.real: /usr/local/lib/libtbbbind_2_5.so.3 is not a symbolic link\n",
            "\n",
            "Processing triggers for man-db (2.10.2-1) ...\n",
            "Processing triggers for dbus (1.12.20-2ubuntu4.1) ...\n",
            "Collecting selenium\n",
            "  Downloading selenium-4.23.1-py3-none-any.whl.metadata (7.1 kB)\n",
            "Requirement already satisfied: urllib3<3,>=1.26 in /usr/local/lib/python3.10/dist-packages (from urllib3[socks]<3,>=1.26->selenium) (2.0.7)\n",
            "Collecting trio~=0.17 (from selenium)\n",
            "  Downloading trio-0.26.2-py3-none-any.whl.metadata (8.6 kB)\n",
            "Collecting trio-websocket~=0.9 (from selenium)\n",
            "  Downloading trio_websocket-0.11.1-py3-none-any.whl.metadata (4.7 kB)\n",
            "Requirement already satisfied: certifi>=2021.10.8 in /usr/local/lib/python3.10/dist-packages (from selenium) (2024.7.4)\n",
            "Requirement already satisfied: typing_extensions~=4.9 in /usr/local/lib/python3.10/dist-packages (from selenium) (4.12.2)\n",
            "Requirement already satisfied: websocket-client~=1.8 in /usr/local/lib/python3.10/dist-packages (from selenium) (1.8.0)\n",
            "Requirement already satisfied: attrs>=23.2.0 in /usr/local/lib/python3.10/dist-packages (from trio~=0.17->selenium) (24.2.0)\n",
            "Requirement already satisfied: sortedcontainers in /usr/local/lib/python3.10/dist-packages (from trio~=0.17->selenium) (2.4.0)\n",
            "Requirement already satisfied: idna in /usr/local/lib/python3.10/dist-packages (from trio~=0.17->selenium) (3.7)\n",
            "Collecting outcome (from trio~=0.17->selenium)\n",
            "  Downloading outcome-1.3.0.post0-py2.py3-none-any.whl.metadata (2.6 kB)\n",
            "Requirement already satisfied: sniffio>=1.3.0 in /usr/local/lib/python3.10/dist-packages (from trio~=0.17->selenium) (1.3.1)\n",
            "Requirement already satisfied: exceptiongroup in /usr/local/lib/python3.10/dist-packages (from trio~=0.17->selenium) (1.2.2)\n",
            "Collecting wsproto>=0.14 (from trio-websocket~=0.9->selenium)\n",
            "  Downloading wsproto-1.2.0-py3-none-any.whl.metadata (5.6 kB)\n",
            "Requirement already satisfied: pysocks!=1.5.7,<2.0,>=1.5.6 in /usr/local/lib/python3.10/dist-packages (from urllib3[socks]<3,>=1.26->selenium) (1.7.1)\n",
            "Collecting h11<1,>=0.9.0 (from wsproto>=0.14->trio-websocket~=0.9->selenium)\n",
            "  Downloading h11-0.14.0-py3-none-any.whl.metadata (8.2 kB)\n",
            "Downloading selenium-4.23.1-py3-none-any.whl (9.4 MB)\n",
            "\u001b[2K   \u001b[90m━━━━━━━━━━━━━━━━━━━━━━━━━━━━━━━━━━━━━━━━\u001b[0m \u001b[32m9.4/9.4 MB\u001b[0m \u001b[31m15.1 MB/s\u001b[0m eta \u001b[36m0:00:00\u001b[0m\n",
            "\u001b[?25hDownloading trio-0.26.2-py3-none-any.whl (475 kB)\n",
            "\u001b[2K   \u001b[90m━━━━━━━━━━━━━━━━━━━━━━━━━━━━━━━━━━━━━━━━\u001b[0m \u001b[32m476.0/476.0 kB\u001b[0m \u001b[31m11.0 MB/s\u001b[0m eta \u001b[36m0:00:00\u001b[0m\n",
            "\u001b[?25hDownloading trio_websocket-0.11.1-py3-none-any.whl (17 kB)\n",
            "Downloading wsproto-1.2.0-py3-none-any.whl (24 kB)\n",
            "Downloading outcome-1.3.0.post0-py2.py3-none-any.whl (10 kB)\n",
            "Downloading h11-0.14.0-py3-none-any.whl (58 kB)\n",
            "\u001b[2K   \u001b[90m━━━━━━━━━━━━━━━━━━━━━━━━━━━━━━━━━━━━━━━━\u001b[0m \u001b[32m58.3/58.3 kB\u001b[0m \u001b[31m4.3 MB/s\u001b[0m eta \u001b[36m0:00:00\u001b[0m\n",
            "\u001b[?25hInstalling collected packages: outcome, h11, wsproto, trio, trio-websocket, selenium\n",
            "Successfully installed h11-0.14.0 outcome-1.3.0.post0 selenium-4.23.1 trio-0.26.2 trio-websocket-0.11.1 wsproto-1.2.0\n"
          ]
        }
      ]
    },
    {
      "cell_type": "code",
      "source": [
        "\n",
        "# @title Get PDF URL (in: url out: url)\n",
        "def GetPdfURL(url):\n",
        "    #Evitar ser detectado\n",
        "    headers = headersTemplate\n",
        "    headers[\"referer\"] = url\n",
        "    response = requests.get(url, headers=headers)\n",
        "    soup = BeautifulSoup(response.text, 'html.parser')\n",
        "\n",
        "    elements = soup.find_all('div', class_='table-cell cell50')\n",
        "\n",
        "    if len(elements) >= 2:\n",
        "        second_element = elements[2]\n",
        "\n",
        "        # Extraer el texto y el enlace del segundo elemento\n",
        "        link = second_element.find('a')['href']\n",
        "        #text = second_element.find('a').get_text(strip=True)\n",
        "\n",
        "        #print(f'Texto: {text}')\n",
        "        #print(f'Enlace: {link}')\n",
        "\n",
        "        return \"https://ventadebienes.bancobcr.com\"+link\n",
        "    else:\n",
        "        print(soup)\n",
        "        return None\n"
      ],
      "metadata": {
        "id": "US6er71qOfLN",
        "collapsed": true
      },
      "execution_count": null,
      "outputs": []
    },
    {
      "cell_type": "code",
      "source": [
        "# @title Download PDF (in: url out: none)\n",
        "def DownloadPdf(url):\n",
        "    try:\n",
        "        # Hacer una solicitud GET al URL\n",
        "        headers = headersTemplate\n",
        "        headers[\"referer\"] = url\n",
        "        response = requests.get(url, headersTemplate)\n",
        "        soup = BeautifulSoup(response.text, 'html.parser')\n",
        "\n",
        "        # Verificar si la solicitud fue exitosa\n",
        "        if response.status_code == 200:\n",
        "\n",
        "            # Guardar el archivo en la ubicación actual\n",
        "            with open(\"pdf.pdf\", 'wb') as file:\n",
        "                file.write(response.content)\n",
        "                print(soup)\n",
        "            print(f\"PDF descargado y guardado como pdf\")\n",
        "        else:\n",
        "            print(f\"Error: No se pudo descargar el PDF. Estado de la solicitud: {response.status_code}\")\n",
        "    except Exception as e:\n",
        "        print(f\"Se produjo un error: {e}\")"
      ],
      "metadata": {
        "id": "3H_rN8EP6_Mv"
      },
      "execution_count": null,
      "outputs": []
    },
    {
      "cell_type": "code",
      "source": [
        "# @title PDF a String\n",
        "!pip install PyPDF2\n",
        "import PyPDF2\n",
        "def PdfToString():\n",
        "\n",
        "    # Abrir el archivo PDF\n",
        "    with open(\"pdf.pdf\", 'rb') as file:\n",
        "        # Crear un objeto PDFReader\n",
        "        pdf_reader = PyPDF2.PdfReader(file)\n",
        "\n",
        "        # Inicializar una cadena vacía para almacenar el texto\n",
        "        text = \"\"\n",
        "\n",
        "        # Iterar sobre todas las páginas del PDF\n",
        "        for page in pdf_reader.pages:\n",
        "            # Extraer el texto de la página y añadirlo a la cadena\n",
        "            text += page.extract_text()\n",
        "\n",
        "    return text"
      ],
      "metadata": {
        "colab": {
          "base_uri": "https://localhost:8080/"
        },
        "id": "eHirYlqPvqYU",
        "outputId": "f419181c-afbb-487d-abc9-1dec15117488"
      },
      "execution_count": null,
      "outputs": [
        {
          "output_type": "stream",
          "name": "stdout",
          "text": [
            "Requirement already satisfied: PyPDF2 in /usr/local/lib/python3.10/dist-packages (3.0.1)\n"
          ]
        }
      ]
    },
    {
      "cell_type": "markdown",
      "source": [
        "# **Tests Acá**"
      ],
      "metadata": {
        "id": "TX0do_TIhc2k"
      }
    },
    {
      "cell_type": "code",
      "source": [
        "DownloadPdf(\"https://ventadebienes.bancobcr.com/wps/wcm/connect/bcrb/a8295854-14fc-41d7-97db-2e1ec1364c9e/5-107928-000.pdf?MOD=AJPERES&CACHEID=ROOTWORKSPACE.Z18_4024H1S0NGK060QO7G6PB82004-a8295854-14fc-41d7-97db-2e1ec1364c9e-ntQSgdj\")"
      ],
      "metadata": {
        "id": "FdAXpY1F8uBg",
        "colab": {
          "base_uri": "https://localhost:8080/"
        },
        "outputId": "3a44855f-04a6-455f-8f7a-053c1230c37e"
      },
      "execution_count": null,
      "outputs": [
        {
          "output_type": "stream",
          "name": "stdout",
          "text": [
            "<!DOCTYPE html>\n",
            "\n",
            "<html lang=\"en\">\n",
            "<head>\n",
            "<title>Radware Block Page</title>\n",
            "<meta charset=\"utf-8\"/>\n",
            "<meta content=\"width=device-width, initial-scale=1\" name=\"viewport\"/>\n",
            "<link href=\"https://captcha.perfdrive.com/captcha-public/css/shieldsquare_styles.min.css\" rel=\"stylesheet\"/>\n",
            "<script type=\"text/javascript\">\n",
            "\twindow.SSJSInternal = 69923;\n",
            "\n",
            "\tvar __uzdbm_1 = \"b29762da-3f68-4260-aaf3-3abed33e08ea\";\n",
            "\tvar __uzdbm_2 = \"Y2IyNDgyYTgtY2xhMy00ZmYyLWJjMTEtZWNmZjY2NmRmODU0JDM0LjIzLjE5NC4yNDg=\";\n",
            "\t\n",
            "\t(function(w, d, e, u, c, g, a, b){\n",
            "\t\tw[\"SSJSConnectorObj\"] = w[\"SSJSConnectorObj\"] || {ss_cid : c, domain_info: g};\n",
            "\t\ta = d.createElement(e);\n",
            "\t\ta.async = true;\n",
            "\t\ta.src = u;\n",
            "\t\tb = d.getElementsByTagName(e)[0];\n",
            "\t\tb.parentNode.insertBefore(a, b);\n",
            "\t})(window,document,\"script\",\"https://cdn.perfdrive.com/aperture/aperture.js\",\"b8c3\",\"auto\");\n",
            "</script>\n",
            "<script type=\"text/javascript\">\n",
            "\n",
            "try{\n",
            "    (function(x){function n(b,g){var c=(b&65535)+(g&65535);return(b>>16)+(g>>16)+(c>>16)<<16|c&65535}function h(b,g,c,a,d,e){b=n(n(g,b),n(a,e));return n(b<<d|b>>>32-d,c)}function k(b,g,c,a,d,e,f){return h(g&c|~g&a,b,g,d,e,f)}function l(b,g,c,a,d,e,f){return h(g&a|c&~a,b,g,d,e,f)}function m(b,g,c,a,d,e,f){return h(c^(g|~a),b,g,d,e,f)}function p(b,g){b[g>>5]|=128<<g%32;b[(g+64>>>9<<4)+14]=g;var c,a=1732584193,d=-271733879,e=-1732584194,f=271733878;for(c=0;c<b.length;c+=16){var y=a;var z=d;var A=e;var B=\n",
            "        f;a=k(a,d,e,f,b[c],7,-680876936);f=k(f,a,d,e,b[c+1],12,-389564586);e=k(e,f,a,d,b[c+2],17,606105819);d=k(d,e,f,a,b[c+3],22,-1044525330);a=k(a,d,e,f,b[c+4],7,-176418897);f=k(f,a,d,e,b[c+5],12,1200080426);e=k(e,f,a,d,b[c+6],17,-1473231341);d=k(d,e,f,a,b[c+7],22,-45705983);a=k(a,d,e,f,b[c+8],7,1770035416);f=k(f,a,d,e,b[c+9],12,-1958414417);e=k(e,f,a,d,b[c+10],17,-42063);d=k(d,e,f,a,b[c+11],22,-1990404162);a=k(a,d,e,f,b[c+12],7,1804603682);f=k(f,a,d,e,b[c+13],12,-40341101);e=k(e,f,a,d,b[c+14],17,-1502002290);\n",
            "        d=k(d,e,f,a,b[c+15],22,1236535329);a=l(a,d,e,f,b[c+1],5,-165796510);f=l(f,a,d,e,b[c+6],9,-1069501632);e=l(e,f,a,d,b[c+11],14,643717713);d=l(d,e,f,a,b[c],20,-373897302);a=l(a,d,e,f,b[c+5],5,-701558691);f=l(f,a,d,e,b[c+10],9,38016083);e=l(e,f,a,d,b[c+15],14,-660478335);d=l(d,e,f,a,b[c+4],20,-405537848);a=l(a,d,e,f,b[c+9],5,568446438);f=l(f,a,d,e,b[c+14],9,-1019803690);e=l(e,f,a,d,b[c+3],14,-187363961);d=l(d,e,f,a,b[c+8],20,1163531501);a=l(a,d,e,f,b[c+13],5,-1444681467);f=l(f,a,d,e,b[c+2],9,-51403784);\n",
            "        e=l(e,f,a,d,b[c+7],14,1735328473);d=l(d,e,f,a,b[c+12],20,-1926607734);a=h(d^e^f,a,d,b[c+5],4,-378558);f=h(a^d^e,f,a,b[c+8],11,-2022574463);e=h(f^a^d,e,f,b[c+11],16,1839030562);d=h(e^f^a,d,e,b[c+14],23,-35309556);a=h(d^e^f,a,d,b[c+1],4,-1530992060);f=h(a^d^e,f,a,b[c+4],11,1272893353);e=h(f^a^d,e,f,b[c+7],16,-155497632);d=h(e^f^a,d,e,b[c+10],23,-1094730640);a=h(d^e^f,a,d,b[c+13],4,681279174);f=h(a^d^e,f,a,b[c],11,-358537222);e=h(f^a^d,e,f,b[c+3],16,-722521979);d=h(e^f^a,d,e,b[c+6],23,76029189);a=h(d^\n",
            "        e^f,a,d,b[c+9],4,-640364487);f=h(a^d^e,f,a,b[c+12],11,-421815835);e=h(f^a^d,e,f,b[c+15],16,530742520);d=h(e^f^a,d,e,b[c+2],23,-995338651);a=m(a,d,e,f,b[c],6,-198630844);f=m(f,a,d,e,b[c+7],10,1126891415);e=m(e,f,a,d,b[c+14],15,-1416354905);d=m(d,e,f,a,b[c+5],21,-57434055);a=m(a,d,e,f,b[c+12],6,1700485571);f=m(f,a,d,e,b[c+3],10,-1894986606);e=m(e,f,a,d,b[c+10],15,-1051523);d=m(d,e,f,a,b[c+1],21,-2054922799);a=m(a,d,e,f,b[c+8],6,1873313359);f=m(f,a,d,e,b[c+15],10,-30611744);e=m(e,f,a,d,b[c+6],15,-1560198380);\n",
            "        d=m(d,e,f,a,b[c+13],21,1309151649);a=m(a,d,e,f,b[c+4],6,-145523070);f=m(f,a,d,e,b[c+11],10,-1120210379);e=m(e,f,a,d,b[c+2],15,718787259);d=m(d,e,f,a,b[c+9],21,-343485551);a=n(a,y);d=n(d,z);e=n(e,A);f=n(f,B)}return[a,d,e,f]}function t(b){var g,c=\"\",a=32*b.length;for(g=0;g<a;g+=8)c+=String.fromCharCode(b[g>>5]>>>g%32&255);return c}function q(b){var g,c=[];c[(b.length>>2)-1]=void 0;for(g=0;g<c.length;g+=1)c[g]=0;var a=8*b.length;for(g=0;g<a;g+=8)c[g>>5]|=(b.charCodeAt(g/8)&255)<<g%32;return c}function u(b){return t(p(q(b),\n",
            "        8*b.length))}function v(b,g){var c,a=q(b),d=[],e=[];d[15]=e[15]=void 0;16<a.length&&(a=p(a,8*b.length));for(c=0;16>c;c+=1)d[c]=a[c]^909522486,e[c]=a[c]^1549556828;c=p(d.concat(q(g)),512+8*g.length);return t(p(e.concat(c),640))}function w(b){var g=\"\",c;for(c=0;c<b.length;c+=1){var a=b.charCodeAt(c);g+=\"0123456789abcdef\".charAt(a>>>4&15)+\"0123456789abcdef\".charAt(a&15)}return g}function r(b,g,c){g?c?b=v(unescape(encodeURIComponent(g)),unescape(encodeURIComponent(b))):(b=v(unescape(encodeURIComponent(g)),\n",
            "        unescape(encodeURIComponent(b))),b=w(b)):b=c?u(unescape(encodeURIComponent(b))):w(u(unescape(encodeURIComponent(b))));return b}\"function\"===typeof define&&define.amd?define(\"md5\",function(){return r}):\"object\"===typeof module&&module.exports?module.exports=r:x.md5=r})(this);\n",
            "} catch (e) {\n",
            "    //ignore\n",
            "}\n",
            "</script>\n",
            "<script type=\"text/javascript\">\n",
            "\n",
            "var $jscomp=$jscomp||{};$jscomp.scope={};$jscomp.arrayIteratorImpl=function(a){var b=0;return function(){return b<a.length?{done:!1,value:a[b++]}:{done:!0}}};$jscomp.arrayIterator=function(a){return{next:$jscomp.arrayIteratorImpl(a)}};$jscomp.makeIterator=function(a){var b=\"undefined\"!=typeof Symbol&&Symbol.iterator&&a[Symbol.iterator];if(b)return b.call(a);if(\"number\"==typeof a.length)return $jscomp.arrayIterator(a);throw Error(String(a)+\" is not an iterable or ArrayLike\");};\n",
            "var radCfco=!1,radCfdbs=null,radCfresOp=\"\",radCfeMap={};function oco(){hOpenRad()}function ocs(){hSolvedRad()}function hOpenRad(){try{radCfco=!0,mb3tx()}catch(a){radSetErrCook(\"hop\",a.toString())}}\n",
            "function hSolvedRad(){var a=\"Hnyf7MTcBK\",b=\"Bdr9HvhYUw\";try{if(hcaptcha){var d=hcaptcha.getRespKey(),c=hcaptcha.getResponse();10<=d.length&&(a=d.substring(d.length-10));10<=c.length&&(b=c.substring(c.length-10))}else a=\"Unyf7MTcBK\",b=\"Udr9HvhYUw\"}catch(e){a=\"Enyf7MTcBK\",b=\"Edr9HvhYUw\"}try{ldlnb(a,b),mb4tx()}catch(e){radSetErrCook(\"hsol\",e.toString())}}\n",
            "function xrcpc(a,b,d){try{if(d){var c=new Date;c.setTime(c.getTime()+6E4*d);var e=\"; expires=\"+c.toGMTString()}else e=\"\";document.cookie=a+\"=\"+b+e+\"; path=/\"}catch(k){}}function otkhd(a){var b=\"\",d=\"\",c=[];for(e in a)c.push([e,a[e]]);for(;0<c.length;){a=c.splice(Math.floor(Math.random()*c.length),1)[0];var e=a[0];d+=a[1];b+=e}return d+b+getRandomNumber().toString()}function getRandomNumber(){return Math.floor(9E4*Math.random())+1E4}\n",
            "function mdhx(a){try{return md5(a)}catch(b){return\"ecb5e100e5a9a3e7f6d1fd97512215282\"}}function getQueryParams(a){var b={};a.slice(a.indexOf(\"?\")+1).split(\"&\").map(function(d){var c=$jscomp.makeIterator(d.split(\"=\"));d=c.next().value;c=c.next().value;b[d]=decodeURIComponent(c)});return b}function getPidDigestSalt(){try{var a=getQueryParams(window.location.href),b=void 0!==a.ssi?a.ssi:void 0!==a.iid?a.iid:\"00000\";return b.substring(b.length-5)}catch(d){return\"0xcvd\"}}\n",
            "function ldlnb(a,b){try{var d=getRandomNumber().toString(),c=getRandomNumber().toString(),e=Math.floor(Date.now()/1E3).toString(),k=e.substring(0,5),f=e.substring(5);e=radCfco?\"1\":\"0\";var g=getPidDigestSalt(),h=otkhd({1:d,2:\"1\",3:k,4:e,5:c,6:f,7:g,8:a,9:b}),l=mdhx(h);d=\"cbf\"+g;h+=l;var m=document.getElementById(\"cf_input\");m&&(m.value=h);xrcpc(d,h,2)}catch(n){radSetErrCook(\"csol\",n.toString())}}\n",
            "try{document.addEventListener(\"DOMContentLoaded\",function(){var a,b=0,d=\"cbfm\"+getPidDigestSalt(),c=0,e=0,k=0,f=0;document.addEventListener(\"mousedown\",function(g){a=(new Date).getTime()});document.addEventListener(\"mouseup\",function(g){a&&(f=(new Date).getTime(),k=f-a,c=g.x,e=g.y,xrcpc(d,c+\"-\"+e+\"-\"+k+\"-\"+b+\"-\"+f,2),a=null)});document.addEventListener(\"mousemove\",function(g){b+=1});setInterval(function(){xrcpc(d,c+\"-\"+e+\"-\"+k+\"-\"+b+\"-\"+f,2)},2E3)})}catch(a){radSetErrCook(\"mcl\")}\n",
            "try{document.addEventListener(\"DOMContentLoaded\",function(){var a,b=0,d=\"cbft\"+getPidDigestSalt(),c=0,e=0,k=0,f=0;document.addEventListener(\"touchstart\",function(g){var h=g.touches[0];g=h.clientX;h=h.clientY;a=(new Date).getTime();c=g;e=h});document.addEventListener(\"touchend\",function(g){var h=g.changedTouches[0];g=h.clientX;h=h.clientY;a&&(f=(new Date).getTime(),k=f-a,c=g,e=h,xrcpc(d,c+\"-\"+e+\"-\"+k+\"-\"+b+\"-\"+f,2),a=null)});document.addEventListener(\"touchmove\",function(g){b+=1});setInterval(function(){xrcpc(d,\n",
            "c+\"-\"+e+\"-\"+k+\"-\"+b+\"-\"+f,2)},2E3)})}catch(a){radSetErrCook(\"tcl\")}try{document.addEventListener(\"DOMContentLoaded\",function(){setInterval(function(){try{for(var a={},b=document.getElementsByTagName(\"*\"),d=0;d<b.length;d++)for(var c=b[d].className.split(\" \"),e=0;e<c.length;e++){var k=c[e].trim();\"\"!==k&&(a[k]=!0)}var f=Object.keys(a).join(\",\"),g=\"cbfcl\"+getPidDigestSalt();xrcpc(g,f,2)}catch(h){radSetErrCook(\"cl\")}},2E3)})}catch(a){}\n",
            "function hcD(){try{for(var a=document.body.getElementsByTagName(\"div\"),b=null,d=a.length-1;0<=d;d--){var c=a[d];if(\"body\"===c.parentElement.tagName.toLowerCase()){b=c;break}}if(null!==b){var e=b.getElementsByTagName(\"iframe\");if(0<e.length&&e[0].src.includes(\"hcaptcha\"))return b}}catch(k){}return null}try{document.addEventListener(\"DOMContentLoaded\",function(){setTimeout(function(){var a=hcD();null!==a&&(radCfdbs=a.outerHTML)},500)})}catch(a){radSetErrCook(\"csil\")}\n",
            "function mb3tx(){try{var a=\"3\",b=\"xz\",d=\"y\",c=\"k\",e=\"0\",k=\"0\",f=hcD();if(null!==f){var g=f.outerHTML;null!==radCfdbs&&(a=g!=radCfdbs?\"1\":\"2\");b=f.style.display;d=f.style.opacity;c=f.style.visibility;\"block\"==b&&(b=\"blk\");\"visible\"==c&&(c=\"vbe\");\"hidden\"==c&&(c=\"hdn\");var h=f.querySelector(\"div\");e=h.style.width;k=h.style.height;radCfresOp=Math.floor(Date.now()/1E3).toString()+\"-\"+a+\"-\"+d+\"-\"+c+\"-\"+b+\"-\"+k.replace(\"px\",\"\")+\"-\"+e.replace(\"px\",\"\")}}catch(l){radSetErrCook(\"csso\")}}\n",
            "function mb4tx(){try{var a=\"3\",b=\"xz\",d=\"y\",c=\"k\",e=\"0\",k=\"0\",f=hcD();if(null!==f){var g=f.outerHTML;null!==radCfdbs&&(a=g!=radCfdbs?\"1\":\"2\");b=f.style.display;d=f.style.opacity;c=f.style.visibility;\"block\"==b&&(b=\"blk\");\"visible\"==c&&(c=\"vbe\");\"hidden\"==c&&(c=\"hdn\");var h=f.querySelector(\"div\");e=h.style.width;k=h.style.height;var l=a+\"-\"+d+\"-\"+c+\"-\"+b+\"-\"+k.replace(\"px\",\"\")+\"-\"+e.replace(\"px\",\"\"),m=\"cbfcs\"+getPidDigestSalt();xrcpc(m,radCfresOp+\"::\"+l,2)}}catch(n){radSetErrCook(\"cssl\")}}\n",
            "function radSetErrCook(a,b){try{radCfeMap[a]=void 0===b?1:b,xrcpc(\"cbfer\"+getPidDigestSalt(),JSON.stringify(radCfeMap),2)}catch(d){xrcpc(\"cbfer\"+getPidDigestSalt(),d.toString(),2)}};\n",
            "\n",
            "</script>\n",
            "</head>\n",
            "<body>\n",
            "<div class=\"container\">\n",
            "<div class=\"row\">\n",
            "<div class=\"col-1\">\n",
            "<br/>\n",
            "<img alt=\"Block Page\" src=\"https://captcha.perfdrive.com/captcha-public/images/ss_captcha.png\"/>\n",
            "</div>\n",
            "<div class=\"col-2\">\n",
            "<br/>\n",
            "<h1>We are sorry...</h1>\n",
            "<p>...but your activity and behavior on this website made us think that you are a bot.</p>\n",
            "<ol>\n",
            "<li>To protect this website, we cannot process your request right now.</li>\n",
            "<li>If you think this is an error, please <a href=\"mailto:botmanager_support@radware.com?subject=I%20am%20not%20a%20Bot%20|%20IP%2034.23.194.248&amp;body=Trace%20Information%3A%0D%0A%0D%0AURL%20%20%3A%20https://ventadebienes.bancobcr.com/wps/wcm/connect/bcrb/a8295854-14fc-41d7-97db-2e1ec1364c9e/5-107928-000.pdf?MOD=AJPERES&amp;CACHEID=ROOTWORKSPACE.Z18_4024H1S0NGK060QO7G6PB82004-a8295854-14fc-41d7-97db-2e1ec1364c9e-ntQSgdj&amp;accept=text%2Fhtml%2C+%2A%2F%2A%3B+q%3D0.01&amp;accept-language=es-ES%2Ces%3Bq%3D0.9%2Cen%3Bq%3D0.8&amp;content-type=application%2Fx-www-form-urlencoded%3B+charset%3DUTF-8&amp;origin=https%3A%2F%2Fventadebienes.bancobcr.com&amp;priority=u%3D1%2C+i&amp;referer=https%3A%2F%2Fventadebienes.bancobcr.com%2Fwps%2Fwcm%2Fconnect%2Fbcrb%2Fa8295854-14fc-41d7-97db-2e1ec1364c9e%2F5-107928-000.pdf%3FMOD%3DAJPERES%26CACHEID%3DROOTWORKSPACE.Z18_4024H1S0NGK060QO7G6PB82004-a8295854-14fc-41d7-97db-2e1ec1364c9e-ntQSgdj&amp;sec-ch-ua=%22Not%2FA%29Brand%22%3Bv%3D%228%22%2C+%22Chromium%22%3Bv%3D%22126%22%2C+%22Google+Chrome%22%3Bv%3D%22126%22&amp;sec-ch-ua-mobile=%3F0&amp;sec-ch-ua-platform=%22Windows%22&amp;sec-fetch-dest=empty&amp;sec-fetch-mode=cors&amp;sec-fetch-site=same-origin&amp;user-agent=Mozilla%2F5.0+%28Windows+NT+10.0%3B+Win64%3B+x64%29+AppleWebKit%2F537.36+%28KHTML%2C+like+Gecko%29+Chrome%2F126.0.0.0+Safari%2F537.36&amp;uzlc=true&amp;x-requested-with=XMLHttpRequest%0D%0AIP%20%20%20%3A%2034.23.194.248%0D%0AID%20%20%20%3A%20cb2482a8-cla3-4ff2-bc11-ecff666df854%0D%0APage%20%3A%20block%20Page%0D%0D%0A%0D%0A%0D%0APlease%20unblock%20my%20IP%20since%20I%20am%20a%20genuine%20user.\" target=\"_top\">contact us</a> copying below ID in the email.</li>\n",
            "</ol>\n",
            "</div>\n",
            "</div>\n",
            "<center><b>Incident ID:</b> cb2482a8-cla3-4ff2-bc11-ecff666df854<center>\n",
            "<div class=\"row\">\n",
            "<br/>\n",
            "<div>\n",
            "<center><p><b> Please solve this CAPTCHA in helping us understand your behavior to grant access </b></p></center>\n",
            "</div>\n",
            "<br/>\n",
            "<div class=\"captcha-mid\">\n",
            "<form action=\"\" method=\"POST\" style=\"width:300px;margin-left:auto;margin-right:auto;\">\n",
            "<script src=\"https://hcaptcha.com/1/api.js\" type=\"text/javascript\"></script>\n",
            "<div class=\"h-captcha\" data-sitekey=\"ae73173b-7003-44e0-bc87-654d0dab8b75\"></div>\n",
            "<input id=\"recaptcha_response\" name=\"recaptcha_response\" type=\"hidden\"/><br/>\n",
            "<center><br/><input class=\"btn btn-success btn-sm\" type=\"submit\" value=\"Submit\"/><br/></center>\n",
            "</form>\n",
            "</div>\n",
            "</div>\n",
            "</center></center></div>\n",
            "<div class=\"footer\">\n",
            "<div class=\"footer\">\n",
            "<p class=\"text-muted credit\">\n",
            "\t\tYou reached this page when trying to access\n",
            "\t\t<b>https://ventadebienes.bancobcr.com/wps/wcm/connect/bcrb/a8295854-14fc-41d7-97db-2e1ec1364c9e/5-107928-000.pdf?MOD=AJPERES&amp;CACHEID=ROOTWORKSPACE.Z18_4024H1S0NGK060QO7G6PB82004-a8295854-14fc-41d7-97db-2e1ec1364c9e-ntQSgdj&amp;accept=text%2Fhtml%2C+%2A%2F%2A%3B+q%3D0.01&amp;accept-language=es-ES%2Ces%3Bq%3D0.9%2Cen%3Bq%3D0.8&amp;content-type=application%2Fx-www-form-urlencoded%3B+charset%3DUTF-8&amp;origin=https%3A%2F%2Fventadebienes.bancobcr.com&amp;priority=u%3D1%2C+i&amp;referer=https%3A%2F%2Fventadebienes.bancobcr.com%2Fwps%2Fwcm%2Fconnect%2Fbcrb%2Fa8295854-14fc-41d7-97db-2e1ec1364c9e%2F5-107928-000.pdf%3FMOD%3DAJPERES%26CACHEID%3DROOTWORKSPACE.Z18_4024H1S0NGK060QO7G6PB82004-a8295854-14fc-41d7-97db-2e1ec1364c9e-ntQSgdj&amp;sec-ch-ua=%22Not%2FA%29Brand%22%3Bv%3D%228%22%2C+%22Chromium%22%3Bv%3D%22126%22%2C+%22Google+Chrome%22%3Bv%3D%22126%22&amp;sec-ch-ua-mobile=%3F0&amp;sec-ch-ua-platform=%22Windows%22&amp;sec-fetch-dest=empty&amp;sec-fetch-mode=cors&amp;sec-fetch-site=same-origin&amp;user-agent=Mozilla%2F5.0+%28Windows+NT+10.0%3B+Win64%3B+x64%29+AppleWebKit%2F537.36+%28KHTML%2C+like+Gecko%29+Chrome%2F126.0.0.0+Safari%2F537.36&amp;uzlc=true&amp;x-requested-with=XMLHttpRequest</b> from\n",
            "\t\t<b>34.23.194.248</b> on\n",
            "\t\t<b>August 05 2024, 02:01:24 UTC</b>\n",
            "</p>\n",
            "</div>\n",
            "</div>\n",
            "</body>\n",
            "</html>\n",
            "\n",
            "PDF descargado y guardado como pdf\n"
          ]
        }
      ]
    },
    {
      "cell_type": "code",
      "source": [
        "GetPdfURL(\"https://ventadebienes.bancobcr.com/wps/portal/bcrb/bcrbienes/bienes/Casas/detalle/?codigo=5-107928-000&tipo_propiedad=1&descuento=1\")"
      ],
      "metadata": {
        "id": "TngYfGJdud1n",
        "colab": {
          "base_uri": "https://localhost:8080/",
          "height": 53
        },
        "outputId": "d3c4284f-e896-4dfa-a85a-488fb131b4cb"
      },
      "execution_count": null,
      "outputs": [
        {
          "output_type": "execute_result",
          "data": {
            "text/plain": [
              "'https://ventadebienes.bancobcr.com/wps/wcm/connect/bcrb/a8295854-14fc-41d7-97db-2e1ec1364c9e/5-107928-000.pdf?MOD=AJPERES&CACHEID=ROOTWORKSPACE.Z18_4024H1S0NGK060QO7G6PB82004-a8295854-14fc-41d7-97db-2e1ec1364c9e-ntQSgdj'"
            ],
            "application/vnd.google.colaboratory.intrinsic+json": {
              "type": "string"
            }
          },
          "metadata": {},
          "execution_count": 5
        }
      ]
    },
    {
      "cell_type": "code",
      "source": [
        "PdfToString()"
      ],
      "metadata": {
        "id": "8Etv0679xQqx",
        "outputId": "abde85f5-8212-4ad6-940e-879e0d4202cd",
        "colab": {
          "base_uri": "https://localhost:8080/",
          "height": 141
        }
      },
      "execution_count": null,
      "outputs": [
        {
          "output_type": "error",
          "ename": "NameError",
          "evalue": "name 'PdfToString' is not defined",
          "traceback": [
            "\u001b[0;31m---------------------------------------------------------------------------\u001b[0m",
            "\u001b[0;31mNameError\u001b[0m                                 Traceback (most recent call last)",
            "\u001b[0;32m<ipython-input-2-84e75da5523f>\u001b[0m in \u001b[0;36m<cell line: 1>\u001b[0;34m()\u001b[0m\n\u001b[0;32m----> 1\u001b[0;31m \u001b[0mPdfToString\u001b[0m\u001b[0;34m(\u001b[0m\u001b[0;34m)\u001b[0m\u001b[0;34m\u001b[0m\u001b[0;34m\u001b[0m\u001b[0m\n\u001b[0m",
            "\u001b[0;31mNameError\u001b[0m: name 'PdfToString' is not defined"
          ]
        }
      ]
    },
    {
      "cell_type": "code",
      "source": [
        "def extract_fiscal_value_and_inscription_date(text):\n",
        "    lines = text.split('\\n')\n",
        "    fiscal_value = None\n",
        "    inscription_date = None\n",
        "\n",
        "    for line in lines:\n",
        "        if 'VALOR FISCAL:' in line:\n",
        "            parts = line.split(':')\n",
        "            if len(parts) > 1:\n",
        "                value_str = parts[1].strip().split()[0]\n",
        "                fiscal_value = int(''.join(c for c in value_str if c.isdigit()))\n",
        "\n",
        "        if 'FECHA DE INSCRIPCIÓN:' in line:\n",
        "            parts = line.split(':')\n",
        "            if len(parts) > 1:\n",
        "                inscription_date = parts[1].strip()\n",
        "\n",
        "    return (fiscal_value, inscription_date)\n",
        "extract_fiscal_value_and_inscription_date(PdfToString())"
      ],
      "metadata": {
        "colab": {
          "base_uri": "https://localhost:8080/"
        },
        "id": "Hy2JkxPsiEvG",
        "outputId": "dcae69ea-2470-4079-b790-746a52382c74"
      },
      "execution_count": null,
      "outputs": [
        {
          "output_type": "execute_result",
          "data": {
            "text/plain": [
              "(2070000000, '18-JUL-2016')"
            ]
          },
          "metadata": {},
          "execution_count": 4
        }
      ]
    },
    {
      "cell_type": "markdown",
      "source": [
        "# **Main**"
      ],
      "metadata": {
        "id": "ioRlUaSMhk9O"
      }
    },
    {
      "cell_type": "code",
      "execution_count": null,
      "metadata": {
        "id": "-nEOPb-cSK_r",
        "cellView": "form"
      },
      "outputs": [],
      "source": [
        "# @title Solicitud AJAX\n",
        "# URL de la solicitud AJAX para la paginación\n",
        "ajax_url = 'https://ventadebienes.bancobcr.com/wps/portal/bcrb/bcrbienes/bienes/Casas/\\u0021ut/p/z1/04_Sj9CPykssy0xPLMnMz0vMAfIjo8zizS0tjAw8gg18_f093AwcXUw8glzdzIwNvI30w_Eq8DfQjyJGvwEO4EikfjwKovAbH64fhdcKE1MCCkBeJGRJQW5oaIRBpicAlkvK3Q\\u0021\\u0021/p0/IZ7_79820HS0M8TPD0ADI3PNTI20T6=CZ6_79820HS0MOOHF0AD4HREF630K2=NJpaginacion=/'\n"
      ]
    },
    {
      "cell_type": "code",
      "source": [
        "# @title Headers comunes\n",
        "headers = {\n",
        "    'accept': 'text/html, */*; q=0.01',\n",
        "    'accept-language': 'es-ES,es;q=0.9,en;q=0.8',\n",
        "    'content-type': 'application/x-www-form-urlencoded; charset=UTF-8',\n",
        "    'origin': 'https://ventadebienes.bancobcr.com',\n",
        "    'priority': 'u=1, i',\n",
        "    'referer': 'https://ventadebienes.bancobcr.com/wps/portal/bcrb/bcrbienes/bienes/Casas?&tipo_propiedad=1',\n",
        "    'sec-ch-ua': '\"Not/A)Brand\";v=\"8\", \"Chromium\";v=\"126\", \"Google Chrome\";v=\"126\"',\n",
        "    'sec-ch-ua-mobile': '?0',\n",
        "    'sec-ch-ua-platform': '\"Windows\"',\n",
        "    'sec-fetch-dest': 'empty',\n",
        "    'sec-fetch-mode': 'cors',\n",
        "    'sec-fetch-site': 'same-origin',\n",
        "    'user-agent': 'Mozilla/5.0 (Windows NT 10.0; Win64; x64) AppleWebKit/537.36 (KHTML, like Gecko) Chrome/126.0.0.0 Safari/537.36',\n",
        "    'uzlc': 'true',\n",
        "    'x-requested-with': 'XMLHttpRequest'\n",
        "}\n"
      ],
      "metadata": {
        "id": "Ba9PNtkRSM8e",
        "cellView": "form"
      },
      "execution_count": null,
      "outputs": []
    },
    {
      "cell_type": "code",
      "source": [
        "\n",
        "# @title Datos comunes en la solicitud POST\n",
        "post_data_template = {\n",
        "    'pagina': '1',  # Este valor será actualizado en cada iteración\n",
        "    'tipo': '1'\n",
        "}\n"
      ],
      "metadata": {
        "id": "_LA2y2PCSdhR",
        "cellView": "form"
      },
      "execution_count": null,
      "outputs": []
    },
    {
      "cell_type": "code",
      "source": [
        "\n",
        "# @title Lista para almacenar la información de todas las casas\n",
        "casas_data = []\n"
      ],
      "metadata": {
        "id": "UC2MnU2uSfnZ",
        "cellView": "form"
      },
      "execution_count": null,
      "outputs": []
    },
    {
      "cell_type": "code",
      "source": [
        "# @title Recorrer las páginas\n",
        "# Número de página inicial\n",
        "page = 0\n",
        "\n",
        "while True:\n",
        "    # Actualizar los datos POST con el número de página actual\n",
        "    post_data = post_data_template.copy()\n",
        "    post_data['pagina'] = str(page)\n",
        "\n",
        "    # Realizar la solicitud POST\n",
        "    response = requests.post(ajax_url, headers=headers, data=post_data)\n",
        "    if response.status_code != 200:\n",
        "        break\n",
        "\n",
        "    # Parsear el HTML de la respuesta\n",
        "    soup = BeautifulSoup(response.content, 'html.parser')\n",
        "    casas = soup.find_all('div', class_='binesCell')\n",
        "\n",
        "    # Si no hay más casas, salir del bucle\n",
        "    if not casas:\n",
        "        break\n",
        "\n",
        "    # Extraer la información de cada casa en la página actual\n",
        "    for casa in casas:\n",
        "        titulo = casa.find('b', title=True).text.strip() if casa.find('b', title=True) else ''\n",
        "        titulo = titulo.split('BCR')[0] if 'BCR' in titulo else titulo\n",
        "        precio = casa.find_all('div', class_='table-cell cell50')[1].text.strip() if len(casa.find_all('div', class_='table-cell cell50')) > 1 else ''\n",
        "        provincia = casa.find_all('div', class_='table-cell cell50')[2].text.strip() if len(casa.find_all('div', class_='table-cell cell50')) > 2 else ''\n",
        "        canton = casa.find_all('div', class_='table-cell cell50')[3].text.strip() if len(casa.find_all('div', class_='table-cell cell50')) > 3 else ''\n",
        "        descuento = casa.find('label').text.strip() if casa.find('label') else ''\n",
        "        imagen = casa.find('img')['src'] if casa.find('img') else ''\n",
        "        enlace_compra = casa.find('a', href=True)['href'] if casa.find('a', href=True) else ''\n",
        "        precio = precio.replace('¢', '').replace(\".\",\"\").replace(\",\",\".\").strip()\n",
        "\n",
        "        valorFiscal,Fecha = extract_fiscal_value_and_inscription_date(DownloadPdf(GetPdfURL(\"https://ventadebienes.bancobcr.com\" +enlace_compra)))\n",
        "\n",
        "\n",
        "\n",
        "        casas_data.append({\n",
        "            'Titulo': titulo,\n",
        "            'Precio': precio,\n",
        "            'Provincia': provincia,\n",
        "            'Canton': canton,\n",
        "            'Descuento': descuento,\n",
        "            'Imagen': imagen,\n",
        "            'Compra': enlace_compra\n",
        "        })\n",
        "\n",
        "    # Incrementar el número de página\n",
        "    page += 1\n"
      ],
      "metadata": {
        "id": "uk3OGPM0Skm-",
        "colab": {
          "base_uri": "https://localhost:8080/",
          "height": 1000
        },
        "outputId": "7553a99e-1683-4e2d-e20c-8e899c075af1",
        "collapsed": true,
        "cellView": "form"
      },
      "execution_count": null,
      "outputs": [
        {
          "output_type": "stream",
          "name": "stdout",
          "text": [
            "<!DOCTYPE html>\n",
            "\n",
            "<html lang=\"en\">\n",
            "<head>\n",
            "<title>Radware Block Page</title>\n",
            "<meta charset=\"utf-8\"/>\n",
            "<meta content=\"width=device-width, initial-scale=1\" name=\"viewport\"/>\n",
            "<link href=\"https://captcha.perfdrive.com/captcha-public/css/shieldsquare_styles.min.css\" rel=\"stylesheet\"/>\n",
            "<script type=\"text/javascript\">\n",
            "\twindow.SSJSInternal = 69923;\n",
            "\n",
            "\tvar __uzdbm_1 = \"095c8aa8-e218-4529-b646-8863b03f78e8\";\n",
            "\tvar __uzdbm_2 = \"NDkxOWRlMWItY2xhMy00NmRjLWExYWMtY2ExOTIyZTA4NjgxJDM0LjIzLjE5NC4yNDg=\";\n",
            "\t\n",
            "\t(function(w, d, e, u, c, g, a, b){\n",
            "\t\tw[\"SSJSConnectorObj\"] = w[\"SSJSConnectorObj\"] || {ss_cid : c, domain_info: g};\n",
            "\t\ta = d.createElement(e);\n",
            "\t\ta.async = true;\n",
            "\t\ta.src = u;\n",
            "\t\tb = d.getElementsByTagName(e)[0];\n",
            "\t\tb.parentNode.insertBefore(a, b);\n",
            "\t})(window,document,\"script\",\"https://cdn.perfdrive.com/aperture/aperture.js\",\"b8c3\",\"auto\");\n",
            "</script>\n",
            "<script type=\"text/javascript\">\n",
            "\n",
            "try{\n",
            "    (function(x){function n(b,g){var c=(b&65535)+(g&65535);return(b>>16)+(g>>16)+(c>>16)<<16|c&65535}function h(b,g,c,a,d,e){b=n(n(g,b),n(a,e));return n(b<<d|b>>>32-d,c)}function k(b,g,c,a,d,e,f){return h(g&c|~g&a,b,g,d,e,f)}function l(b,g,c,a,d,e,f){return h(g&a|c&~a,b,g,d,e,f)}function m(b,g,c,a,d,e,f){return h(c^(g|~a),b,g,d,e,f)}function p(b,g){b[g>>5]|=128<<g%32;b[(g+64>>>9<<4)+14]=g;var c,a=1732584193,d=-271733879,e=-1732584194,f=271733878;for(c=0;c<b.length;c+=16){var y=a;var z=d;var A=e;var B=\n",
            "        f;a=k(a,d,e,f,b[c],7,-680876936);f=k(f,a,d,e,b[c+1],12,-389564586);e=k(e,f,a,d,b[c+2],17,606105819);d=k(d,e,f,a,b[c+3],22,-1044525330);a=k(a,d,e,f,b[c+4],7,-176418897);f=k(f,a,d,e,b[c+5],12,1200080426);e=k(e,f,a,d,b[c+6],17,-1473231341);d=k(d,e,f,a,b[c+7],22,-45705983);a=k(a,d,e,f,b[c+8],7,1770035416);f=k(f,a,d,e,b[c+9],12,-1958414417);e=k(e,f,a,d,b[c+10],17,-42063);d=k(d,e,f,a,b[c+11],22,-1990404162);a=k(a,d,e,f,b[c+12],7,1804603682);f=k(f,a,d,e,b[c+13],12,-40341101);e=k(e,f,a,d,b[c+14],17,-1502002290);\n",
            "        d=k(d,e,f,a,b[c+15],22,1236535329);a=l(a,d,e,f,b[c+1],5,-165796510);f=l(f,a,d,e,b[c+6],9,-1069501632);e=l(e,f,a,d,b[c+11],14,643717713);d=l(d,e,f,a,b[c],20,-373897302);a=l(a,d,e,f,b[c+5],5,-701558691);f=l(f,a,d,e,b[c+10],9,38016083);e=l(e,f,a,d,b[c+15],14,-660478335);d=l(d,e,f,a,b[c+4],20,-405537848);a=l(a,d,e,f,b[c+9],5,568446438);f=l(f,a,d,e,b[c+14],9,-1019803690);e=l(e,f,a,d,b[c+3],14,-187363961);d=l(d,e,f,a,b[c+8],20,1163531501);a=l(a,d,e,f,b[c+13],5,-1444681467);f=l(f,a,d,e,b[c+2],9,-51403784);\n",
            "        e=l(e,f,a,d,b[c+7],14,1735328473);d=l(d,e,f,a,b[c+12],20,-1926607734);a=h(d^e^f,a,d,b[c+5],4,-378558);f=h(a^d^e,f,a,b[c+8],11,-2022574463);e=h(f^a^d,e,f,b[c+11],16,1839030562);d=h(e^f^a,d,e,b[c+14],23,-35309556);a=h(d^e^f,a,d,b[c+1],4,-1530992060);f=h(a^d^e,f,a,b[c+4],11,1272893353);e=h(f^a^d,e,f,b[c+7],16,-155497632);d=h(e^f^a,d,e,b[c+10],23,-1094730640);a=h(d^e^f,a,d,b[c+13],4,681279174);f=h(a^d^e,f,a,b[c],11,-358537222);e=h(f^a^d,e,f,b[c+3],16,-722521979);d=h(e^f^a,d,e,b[c+6],23,76029189);a=h(d^\n",
            "        e^f,a,d,b[c+9],4,-640364487);f=h(a^d^e,f,a,b[c+12],11,-421815835);e=h(f^a^d,e,f,b[c+15],16,530742520);d=h(e^f^a,d,e,b[c+2],23,-995338651);a=m(a,d,e,f,b[c],6,-198630844);f=m(f,a,d,e,b[c+7],10,1126891415);e=m(e,f,a,d,b[c+14],15,-1416354905);d=m(d,e,f,a,b[c+5],21,-57434055);a=m(a,d,e,f,b[c+12],6,1700485571);f=m(f,a,d,e,b[c+3],10,-1894986606);e=m(e,f,a,d,b[c+10],15,-1051523);d=m(d,e,f,a,b[c+1],21,-2054922799);a=m(a,d,e,f,b[c+8],6,1873313359);f=m(f,a,d,e,b[c+15],10,-30611744);e=m(e,f,a,d,b[c+6],15,-1560198380);\n",
            "        d=m(d,e,f,a,b[c+13],21,1309151649);a=m(a,d,e,f,b[c+4],6,-145523070);f=m(f,a,d,e,b[c+11],10,-1120210379);e=m(e,f,a,d,b[c+2],15,718787259);d=m(d,e,f,a,b[c+9],21,-343485551);a=n(a,y);d=n(d,z);e=n(e,A);f=n(f,B)}return[a,d,e,f]}function t(b){var g,c=\"\",a=32*b.length;for(g=0;g<a;g+=8)c+=String.fromCharCode(b[g>>5]>>>g%32&255);return c}function q(b){var g,c=[];c[(b.length>>2)-1]=void 0;for(g=0;g<c.length;g+=1)c[g]=0;var a=8*b.length;for(g=0;g<a;g+=8)c[g>>5]|=(b.charCodeAt(g/8)&255)<<g%32;return c}function u(b){return t(p(q(b),\n",
            "        8*b.length))}function v(b,g){var c,a=q(b),d=[],e=[];d[15]=e[15]=void 0;16<a.length&&(a=p(a,8*b.length));for(c=0;16>c;c+=1)d[c]=a[c]^909522486,e[c]=a[c]^1549556828;c=p(d.concat(q(g)),512+8*g.length);return t(p(e.concat(c),640))}function w(b){var g=\"\",c;for(c=0;c<b.length;c+=1){var a=b.charCodeAt(c);g+=\"0123456789abcdef\".charAt(a>>>4&15)+\"0123456789abcdef\".charAt(a&15)}return g}function r(b,g,c){g?c?b=v(unescape(encodeURIComponent(g)),unescape(encodeURIComponent(b))):(b=v(unescape(encodeURIComponent(g)),\n",
            "        unescape(encodeURIComponent(b))),b=w(b)):b=c?u(unescape(encodeURIComponent(b))):w(u(unescape(encodeURIComponent(b))));return b}\"function\"===typeof define&&define.amd?define(\"md5\",function(){return r}):\"object\"===typeof module&&module.exports?module.exports=r:x.md5=r})(this);\n",
            "} catch (e) {\n",
            "    //ignore\n",
            "}\n",
            "</script>\n",
            "<script type=\"text/javascript\">\n",
            "\n",
            "var $jscomp=$jscomp||{};$jscomp.scope={};$jscomp.arrayIteratorImpl=function(a){var b=0;return function(){return b<a.length?{done:!1,value:a[b++]}:{done:!0}}};$jscomp.arrayIterator=function(a){return{next:$jscomp.arrayIteratorImpl(a)}};$jscomp.makeIterator=function(a){var b=\"undefined\"!=typeof Symbol&&Symbol.iterator&&a[Symbol.iterator];if(b)return b.call(a);if(\"number\"==typeof a.length)return $jscomp.arrayIterator(a);throw Error(String(a)+\" is not an iterable or ArrayLike\");};\n",
            "var radCfco=!1,radCfdbs=null,radCfresOp=\"\",radCfeMap={};function oco(){hOpenRad()}function ocs(){hSolvedRad()}function hOpenRad(){try{radCfco=!0,mb3tx()}catch(a){radSetErrCook(\"hop\",a.toString())}}\n",
            "function hSolvedRad(){var a=\"Hnyf7MTcBK\",b=\"Bdr9HvhYUw\";try{if(hcaptcha){var d=hcaptcha.getRespKey(),c=hcaptcha.getResponse();10<=d.length&&(a=d.substring(d.length-10));10<=c.length&&(b=c.substring(c.length-10))}else a=\"Unyf7MTcBK\",b=\"Udr9HvhYUw\"}catch(e){a=\"Enyf7MTcBK\",b=\"Edr9HvhYUw\"}try{ldlnb(a,b),mb4tx()}catch(e){radSetErrCook(\"hsol\",e.toString())}}\n",
            "function xrcpc(a,b,d){try{if(d){var c=new Date;c.setTime(c.getTime()+6E4*d);var e=\"; expires=\"+c.toGMTString()}else e=\"\";document.cookie=a+\"=\"+b+e+\"; path=/\"}catch(k){}}function otkhd(a){var b=\"\",d=\"\",c=[];for(e in a)c.push([e,a[e]]);for(;0<c.length;){a=c.splice(Math.floor(Math.random()*c.length),1)[0];var e=a[0];d+=a[1];b+=e}return d+b+getRandomNumber().toString()}function getRandomNumber(){return Math.floor(9E4*Math.random())+1E4}\n",
            "function mdhx(a){try{return md5(a)}catch(b){return\"ecb5e100e5a9a3e7f6d1fd97512215282\"}}function getQueryParams(a){var b={};a.slice(a.indexOf(\"?\")+1).split(\"&\").map(function(d){var c=$jscomp.makeIterator(d.split(\"=\"));d=c.next().value;c=c.next().value;b[d]=decodeURIComponent(c)});return b}function getPidDigestSalt(){try{var a=getQueryParams(window.location.href),b=void 0!==a.ssi?a.ssi:void 0!==a.iid?a.iid:\"00000\";return b.substring(b.length-5)}catch(d){return\"0xcvd\"}}\n",
            "function ldlnb(a,b){try{var d=getRandomNumber().toString(),c=getRandomNumber().toString(),e=Math.floor(Date.now()/1E3).toString(),k=e.substring(0,5),f=e.substring(5);e=radCfco?\"1\":\"0\";var g=getPidDigestSalt(),h=otkhd({1:d,2:\"1\",3:k,4:e,5:c,6:f,7:g,8:a,9:b}),l=mdhx(h);d=\"cbf\"+g;h+=l;var m=document.getElementById(\"cf_input\");m&&(m.value=h);xrcpc(d,h,2)}catch(n){radSetErrCook(\"csol\",n.toString())}}\n",
            "try{document.addEventListener(\"DOMContentLoaded\",function(){var a,b=0,d=\"cbfm\"+getPidDigestSalt(),c=0,e=0,k=0,f=0;document.addEventListener(\"mousedown\",function(g){a=(new Date).getTime()});document.addEventListener(\"mouseup\",function(g){a&&(f=(new Date).getTime(),k=f-a,c=g.x,e=g.y,xrcpc(d,c+\"-\"+e+\"-\"+k+\"-\"+b+\"-\"+f,2),a=null)});document.addEventListener(\"mousemove\",function(g){b+=1});setInterval(function(){xrcpc(d,c+\"-\"+e+\"-\"+k+\"-\"+b+\"-\"+f,2)},2E3)})}catch(a){radSetErrCook(\"mcl\")}\n",
            "try{document.addEventListener(\"DOMContentLoaded\",function(){var a,b=0,d=\"cbft\"+getPidDigestSalt(),c=0,e=0,k=0,f=0;document.addEventListener(\"touchstart\",function(g){var h=g.touches[0];g=h.clientX;h=h.clientY;a=(new Date).getTime();c=g;e=h});document.addEventListener(\"touchend\",function(g){var h=g.changedTouches[0];g=h.clientX;h=h.clientY;a&&(f=(new Date).getTime(),k=f-a,c=g,e=h,xrcpc(d,c+\"-\"+e+\"-\"+k+\"-\"+b+\"-\"+f,2),a=null)});document.addEventListener(\"touchmove\",function(g){b+=1});setInterval(function(){xrcpc(d,\n",
            "c+\"-\"+e+\"-\"+k+\"-\"+b+\"-\"+f,2)},2E3)})}catch(a){radSetErrCook(\"tcl\")}try{document.addEventListener(\"DOMContentLoaded\",function(){setInterval(function(){try{for(var a={},b=document.getElementsByTagName(\"*\"),d=0;d<b.length;d++)for(var c=b[d].className.split(\" \"),e=0;e<c.length;e++){var k=c[e].trim();\"\"!==k&&(a[k]=!0)}var f=Object.keys(a).join(\",\"),g=\"cbfcl\"+getPidDigestSalt();xrcpc(g,f,2)}catch(h){radSetErrCook(\"cl\")}},2E3)})}catch(a){}\n",
            "function hcD(){try{for(var a=document.body.getElementsByTagName(\"div\"),b=null,d=a.length-1;0<=d;d--){var c=a[d];if(\"body\"===c.parentElement.tagName.toLowerCase()){b=c;break}}if(null!==b){var e=b.getElementsByTagName(\"iframe\");if(0<e.length&&e[0].src.includes(\"hcaptcha\"))return b}}catch(k){}return null}try{document.addEventListener(\"DOMContentLoaded\",function(){setTimeout(function(){var a=hcD();null!==a&&(radCfdbs=a.outerHTML)},500)})}catch(a){radSetErrCook(\"csil\")}\n",
            "function mb3tx(){try{var a=\"3\",b=\"xz\",d=\"y\",c=\"k\",e=\"0\",k=\"0\",f=hcD();if(null!==f){var g=f.outerHTML;null!==radCfdbs&&(a=g!=radCfdbs?\"1\":\"2\");b=f.style.display;d=f.style.opacity;c=f.style.visibility;\"block\"==b&&(b=\"blk\");\"visible\"==c&&(c=\"vbe\");\"hidden\"==c&&(c=\"hdn\");var h=f.querySelector(\"div\");e=h.style.width;k=h.style.height;radCfresOp=Math.floor(Date.now()/1E3).toString()+\"-\"+a+\"-\"+d+\"-\"+c+\"-\"+b+\"-\"+k.replace(\"px\",\"\")+\"-\"+e.replace(\"px\",\"\")}}catch(l){radSetErrCook(\"csso\")}}\n",
            "function mb4tx(){try{var a=\"3\",b=\"xz\",d=\"y\",c=\"k\",e=\"0\",k=\"0\",f=hcD();if(null!==f){var g=f.outerHTML;null!==radCfdbs&&(a=g!=radCfdbs?\"1\":\"2\");b=f.style.display;d=f.style.opacity;c=f.style.visibility;\"block\"==b&&(b=\"blk\");\"visible\"==c&&(c=\"vbe\");\"hidden\"==c&&(c=\"hdn\");var h=f.querySelector(\"div\");e=h.style.width;k=h.style.height;var l=a+\"-\"+d+\"-\"+c+\"-\"+b+\"-\"+k.replace(\"px\",\"\")+\"-\"+e.replace(\"px\",\"\"),m=\"cbfcs\"+getPidDigestSalt();xrcpc(m,radCfresOp+\"::\"+l,2)}}catch(n){radSetErrCook(\"cssl\")}}\n",
            "function radSetErrCook(a,b){try{radCfeMap[a]=void 0===b?1:b,xrcpc(\"cbfer\"+getPidDigestSalt(),JSON.stringify(radCfeMap),2)}catch(d){xrcpc(\"cbfer\"+getPidDigestSalt(),d.toString(),2)}};\n",
            "\n",
            "</script>\n",
            "</head>\n",
            "<body>\n",
            "<div class=\"container\">\n",
            "<div class=\"row\">\n",
            "<div class=\"col-1\">\n",
            "<br/>\n",
            "<img alt=\"Block Page\" src=\"https://captcha.perfdrive.com/captcha-public/images/ss_captcha.png\"/>\n",
            "</div>\n",
            "<div class=\"col-2\">\n",
            "<br/>\n",
            "<h1>We are sorry...</h1>\n",
            "<p>...but your activity and behavior on this website made us think that you are a bot.</p>\n",
            "<ol>\n",
            "<li>To protect this website, we cannot process your request right now.</li>\n",
            "<li>If you think this is an error, please <a href=\"mailto:botmanager_support@radware.com?subject=I%20am%20not%20a%20Bot%20|%20IP%2034.23.194.248&amp;body=Trace%20Information%3A%0D%0A%0D%0AURL%20%20%3A%20https://ventadebienes.bancobcr.com/wps/wcm/connect/bcrb/a8295854-14fc-41d7-97db-2e1ec1364c9e/5-107928-000.pdf?MOD=AJPERES&amp;CACHEID=ROOTWORKSPACE.Z18_4024H1S0NGK060QO7G6PB82004-a8295854-14fc-41d7-97db-2e1ec1364c9e-ntQSgdj&amp;accept=text%2Fhtml%2C+%2A%2F%2A%3B+q%3D0.01&amp;accept-language=es-ES%2Ces%3Bq%3D0.9%2Cen%3Bq%3D0.8&amp;content-type=application%2Fx-www-form-urlencoded%3B+charset%3DUTF-8&amp;origin=https%3A%2F%2Fventadebienes.bancobcr.com&amp;priority=u%3D1%2C+i&amp;referer=https%3A%2F%2Fventadebienes.bancobcr.com%2Fwps%2Fwcm%2Fconnect%2Fbcrb%2Fa8295854-14fc-41d7-97db-2e1ec1364c9e%2F5-107928-000.pdf%3FMOD%3DAJPERES%26CACHEID%3DROOTWORKSPACE.Z18_4024H1S0NGK060QO7G6PB82004-a8295854-14fc-41d7-97db-2e1ec1364c9e-ntQSgdj&amp;sec-ch-ua=%22Not%2FA%29Brand%22%3Bv%3D%228%22%2C+%22Chromium%22%3Bv%3D%22126%22%2C+%22Google+Chrome%22%3Bv%3D%22126%22&amp;sec-ch-ua-mobile=%3F0&amp;sec-ch-ua-platform=%22Windows%22&amp;sec-fetch-dest=empty&amp;sec-fetch-mode=cors&amp;sec-fetch-site=same-origin&amp;user-agent=Mozilla%2F5.0+%28Windows+NT+10.0%3B+Win64%3B+x64%29+AppleWebKit%2F537.36+%28KHTML%2C+like+Gecko%29+Chrome%2F126.0.0.0+Safari%2F537.36&amp;uzlc=true&amp;x-requested-with=XMLHttpRequest%0D%0AIP%20%20%20%3A%2034.23.194.248%0D%0AID%20%20%20%3A%204919de1b-cla3-46dc-a1ac-ca1922e08681%0D%0APage%20%3A%20block%20Page%0D%0D%0A%0D%0A%0D%0APlease%20unblock%20my%20IP%20since%20I%20am%20a%20genuine%20user.\" target=\"_top\">contact us</a> copying below ID in the email.</li>\n",
            "</ol>\n",
            "</div>\n",
            "</div>\n",
            "<center><b>Incident ID:</b> 4919de1b-cla3-46dc-a1ac-ca1922e08681<center>\n",
            "<div class=\"row\">\n",
            "<br/>\n",
            "<div>\n",
            "<center><p><b> Please solve this CAPTCHA in helping us understand your behavior to grant access </b></p></center>\n",
            "</div>\n",
            "<br/>\n",
            "<div class=\"captcha-mid\">\n",
            "<form action=\"\" method=\"POST\" style=\"width:300px;margin-left:auto;margin-right:auto;\">\n",
            "<script src=\"https://hcaptcha.com/1/api.js\" type=\"text/javascript\"></script>\n",
            "<div class=\"h-captcha\" data-sitekey=\"ae73173b-7003-44e0-bc87-654d0dab8b75\"></div>\n",
            "<input id=\"recaptcha_response\" name=\"recaptcha_response\" type=\"hidden\"/><br/>\n",
            "<center><br/><input class=\"btn btn-success btn-sm\" type=\"submit\" value=\"Submit\"/><br/></center>\n",
            "</form>\n",
            "</div>\n",
            "</div>\n",
            "</center></center></div>\n",
            "<div class=\"footer\">\n",
            "<div class=\"footer\">\n",
            "<p class=\"text-muted credit\">\n",
            "\t\tYou reached this page when trying to access\n",
            "\t\t<b>https://ventadebienes.bancobcr.com/wps/wcm/connect/bcrb/a8295854-14fc-41d7-97db-2e1ec1364c9e/5-107928-000.pdf?MOD=AJPERES&amp;CACHEID=ROOTWORKSPACE.Z18_4024H1S0NGK060QO7G6PB82004-a8295854-14fc-41d7-97db-2e1ec1364c9e-ntQSgdj&amp;accept=text%2Fhtml%2C+%2A%2F%2A%3B+q%3D0.01&amp;accept-language=es-ES%2Ces%3Bq%3D0.9%2Cen%3Bq%3D0.8&amp;content-type=application%2Fx-www-form-urlencoded%3B+charset%3DUTF-8&amp;origin=https%3A%2F%2Fventadebienes.bancobcr.com&amp;priority=u%3D1%2C+i&amp;referer=https%3A%2F%2Fventadebienes.bancobcr.com%2Fwps%2Fwcm%2Fconnect%2Fbcrb%2Fa8295854-14fc-41d7-97db-2e1ec1364c9e%2F5-107928-000.pdf%3FMOD%3DAJPERES%26CACHEID%3DROOTWORKSPACE.Z18_4024H1S0NGK060QO7G6PB82004-a8295854-14fc-41d7-97db-2e1ec1364c9e-ntQSgdj&amp;sec-ch-ua=%22Not%2FA%29Brand%22%3Bv%3D%228%22%2C+%22Chromium%22%3Bv%3D%22126%22%2C+%22Google+Chrome%22%3Bv%3D%22126%22&amp;sec-ch-ua-mobile=%3F0&amp;sec-ch-ua-platform=%22Windows%22&amp;sec-fetch-dest=empty&amp;sec-fetch-mode=cors&amp;sec-fetch-site=same-origin&amp;user-agent=Mozilla%2F5.0+%28Windows+NT+10.0%3B+Win64%3B+x64%29+AppleWebKit%2F537.36+%28KHTML%2C+like+Gecko%29+Chrome%2F126.0.0.0+Safari%2F537.36&amp;uzlc=true&amp;x-requested-with=XMLHttpRequest</b> from\n",
            "\t\t<b>34.23.194.248</b> on\n",
            "\t\t<b>August 05 2024, 02:01:43 UTC</b>\n",
            "</p>\n",
            "</div>\n",
            "</div>\n",
            "</body>\n",
            "</html>\n",
            "\n",
            "PDF descargado y guardado como pdf\n"
          ]
        },
        {
          "output_type": "error",
          "ename": "AttributeError",
          "evalue": "'NoneType' object has no attribute 'split'",
          "traceback": [
            "\u001b[0;31m---------------------------------------------------------------------------\u001b[0m",
            "\u001b[0;31mAttributeError\u001b[0m                            Traceback (most recent call last)",
            "\u001b[0;32m<ipython-input-22-3368efc71f68>\u001b[0m in \u001b[0;36m<cell line: 5>\u001b[0;34m()\u001b[0m\n\u001b[1;32m     33\u001b[0m         \u001b[0mprecio\u001b[0m \u001b[0;34m=\u001b[0m \u001b[0mprecio\u001b[0m\u001b[0;34m.\u001b[0m\u001b[0mreplace\u001b[0m\u001b[0;34m(\u001b[0m\u001b[0;34m'¢'\u001b[0m\u001b[0;34m,\u001b[0m \u001b[0;34m''\u001b[0m\u001b[0;34m)\u001b[0m\u001b[0;34m.\u001b[0m\u001b[0mreplace\u001b[0m\u001b[0;34m(\u001b[0m\u001b[0;34m\".\"\u001b[0m\u001b[0;34m,\u001b[0m\u001b[0;34m\"\"\u001b[0m\u001b[0;34m)\u001b[0m\u001b[0;34m.\u001b[0m\u001b[0mreplace\u001b[0m\u001b[0;34m(\u001b[0m\u001b[0;34m\",\"\u001b[0m\u001b[0;34m,\u001b[0m\u001b[0;34m\".\"\u001b[0m\u001b[0;34m)\u001b[0m\u001b[0;34m.\u001b[0m\u001b[0mstrip\u001b[0m\u001b[0;34m(\u001b[0m\u001b[0;34m)\u001b[0m\u001b[0;34m\u001b[0m\u001b[0;34m\u001b[0m\u001b[0m\n\u001b[1;32m     34\u001b[0m \u001b[0;34m\u001b[0m\u001b[0m\n\u001b[0;32m---> 35\u001b[0;31m         \u001b[0mvalorFiscal\u001b[0m\u001b[0;34m,\u001b[0m\u001b[0mFecha\u001b[0m \u001b[0;34m=\u001b[0m \u001b[0mextract_fiscal_value_and_inscription_date\u001b[0m\u001b[0;34m(\u001b[0m\u001b[0mDownloadPdf\u001b[0m\u001b[0;34m(\u001b[0m\u001b[0mGetPdfURL\u001b[0m\u001b[0;34m(\u001b[0m\u001b[0;34m\"https://ventadebienes.bancobcr.com\"\u001b[0m \u001b[0;34m+\u001b[0m\u001b[0menlace_compra\u001b[0m\u001b[0;34m)\u001b[0m\u001b[0;34m)\u001b[0m\u001b[0;34m)\u001b[0m\u001b[0;34m\u001b[0m\u001b[0;34m\u001b[0m\u001b[0m\n\u001b[0m\u001b[1;32m     36\u001b[0m \u001b[0;34m\u001b[0m\u001b[0m\n\u001b[1;32m     37\u001b[0m \u001b[0;34m\u001b[0m\u001b[0m\n",
            "\u001b[0;32m<ipython-input-4-e8418dcccd06>\u001b[0m in \u001b[0;36mextract_fiscal_value_and_inscription_date\u001b[0;34m(text)\u001b[0m\n\u001b[1;32m      1\u001b[0m \u001b[0;32mdef\u001b[0m \u001b[0mextract_fiscal_value_and_inscription_date\u001b[0m\u001b[0;34m(\u001b[0m\u001b[0mtext\u001b[0m\u001b[0;34m)\u001b[0m\u001b[0;34m:\u001b[0m\u001b[0;34m\u001b[0m\u001b[0;34m\u001b[0m\u001b[0m\n\u001b[0;32m----> 2\u001b[0;31m     \u001b[0mlines\u001b[0m \u001b[0;34m=\u001b[0m \u001b[0mtext\u001b[0m\u001b[0;34m.\u001b[0m\u001b[0msplit\u001b[0m\u001b[0;34m(\u001b[0m\u001b[0;34m'\\n'\u001b[0m\u001b[0;34m)\u001b[0m\u001b[0;34m\u001b[0m\u001b[0;34m\u001b[0m\u001b[0m\n\u001b[0m\u001b[1;32m      3\u001b[0m     \u001b[0mfiscal_value\u001b[0m \u001b[0;34m=\u001b[0m \u001b[0;32mNone\u001b[0m\u001b[0;34m\u001b[0m\u001b[0;34m\u001b[0m\u001b[0m\n\u001b[1;32m      4\u001b[0m     \u001b[0minscription_date\u001b[0m \u001b[0;34m=\u001b[0m \u001b[0;32mNone\u001b[0m\u001b[0;34m\u001b[0m\u001b[0;34m\u001b[0m\u001b[0m\n\u001b[1;32m      5\u001b[0m \u001b[0;34m\u001b[0m\u001b[0m\n",
            "\u001b[0;31mAttributeError\u001b[0m: 'NoneType' object has no attribute 'split'"
          ]
        }
      ]
    },
    {
      "cell_type": "code",
      "source": [
        "# @title Crear un DataFrame de pandas con la información de todas las casas\n",
        "df = pd.DataFrame(casas_data)"
      ],
      "metadata": {
        "id": "gAkN7lgTSxmT"
      },
      "execution_count": null,
      "outputs": []
    },
    {
      "cell_type": "code",
      "source": [
        "print(df)"
      ],
      "metadata": {
        "id": "p9pUV0GbSzz6",
        "colab": {
          "base_uri": "https://localhost:8080/"
        },
        "outputId": "c74afabf-1e37-407e-fcf7-daadf2e2a277",
        "collapsed": true
      },
      "execution_count": null,
      "outputs": [
        {
          "output_type": "stream",
          "name": "stdout",
          "text": [
            "                                Titulo        Precio   Provincia      Canton  \\\n",
            "0                      Casa en Nicoya    17959650.00  GUANACASTE      NICOYA   \n",
            "1                     Casa en Parrita     9852800.00  PUNTARENAS     PARRITA   \n",
            "2               Dos casas en El Roble    43306650.00  PUNTARENAS  PUNTARENAS   \n",
            "3          Terreno con casa en Aserrí   141737000.00    SAN JOSE      ASERRÍ   \n",
            "4    Casa y apartamento en Curridabat   206703850.00    SAN JOSE  CURRIDABAT   \n",
            "..                                 ...           ...         ...         ...   \n",
            "105                   Casa en Liberia    95946000.00  GUANACASTE     LIBERIA   \n",
            "106               Casa en San Nicolás   248212000.00     CARTAGO     CARTAGO   \n",
            "107                     Casa en Pavas    52290000.00    SAN JOSE    SAN JOSÉ   \n",
            "108                CASA EN RÍO CUARTO    33663000.00    ALAJUELA  RIO CUARTO   \n",
            "109                 Casa en San Ramón    80438000.00     CARTAGO    LA UNIÓN   \n",
            "\n",
            "         Descuento                                             Imagen  \\\n",
            "0    15% descuento  /wps/wcm/connect/bcrb/360bff51-8fb2-4085-be5d-...   \n",
            "1    60% descuento  /wps/wcm/connect/bcrb/e7ca0069-291b-470a-a170-...   \n",
            "2    15% descuento  /wps/wcm/connect/bcrb/9eef9a3b-2251-4d9a-ae47-...   \n",
            "3                   /wps/wcm/connect/bcrb/5c430f4e-ad6d-4c5c-9959-...   \n",
            "4    15% descuento  /wps/wcm/connect/bcrb/b796cbb4-fa9a-4ca0-a88f-...   \n",
            "..             ...                                                ...   \n",
            "105                 /wps/wcm/connect/bcrb/56ec9c94-12f5-4d2b-b32c-...   \n",
            "106                 /wps/wcm/connect/bcrb/75a2f2cc-6527-4e4b-9617-...   \n",
            "107                 /wps/wcm/connect/bcrb/cba6bae2-5174-4472-9088-...   \n",
            "108                 /wps/wcm/connect/bcrb/d6dfd9f0-8d7c-4780-a96a-...   \n",
            "109                 /wps/wcm/connect/bcrb/76f642a7-e7d6-445b-9786-...   \n",
            "\n",
            "                                                Compra  \n",
            "0    /wps/portal/bcrb/bcrbienes/bienes/Casas/detall...  \n",
            "1    /wps/portal/bcrb/bcrbienes/bienes/Casas/detall...  \n",
            "2    /wps/portal/bcrb/bcrbienes/bienes/Casas/detall...  \n",
            "3    /wps/portal/bcrb/bcrbienes/bienes/Casas/detall...  \n",
            "4    /wps/portal/bcrb/bcrbienes/bienes/Casas/detall...  \n",
            "..                                                 ...  \n",
            "105  /wps/portal/bcrb/bcrbienes/bienes/Casas/detall...  \n",
            "106  /wps/portal/bcrb/bcrbienes/bienes/Casas/detall...  \n",
            "107  /wps/portal/bcrb/bcrbienes/bienes/Casas/detall...  \n",
            "108  /wps/portal/bcrb/bcrbienes/bienes/Casas/detall...  \n",
            "109  /wps/portal/bcrb/bcrbienes/bienes/Casas/detall...  \n",
            "\n",
            "[110 rows x 7 columns]\n"
          ]
        }
      ]
    },
    {
      "cell_type": "code",
      "source": [
        "\n",
        "# @title Guardar el DataFrame en un archivo CSV\n",
        "df.to_csv('casas.csv', index=False, encoding='utf-8-sig')\n",
        "\n",
        "print('Archivo CSV generado exitosamente.')"
      ],
      "metadata": {
        "colab": {
          "base_uri": "https://localhost:8080/"
        },
        "id": "Z5t3hYUESpO-",
        "outputId": "9e32ca6a-7fe0-459d-b8f4-919bde59ab8e"
      },
      "execution_count": null,
      "outputs": [
        {
          "output_type": "stream",
          "name": "stdout",
          "text": [
            "Archivo CSV generado exitosamente.\n"
          ]
        }
      ]
    }
  ]
}